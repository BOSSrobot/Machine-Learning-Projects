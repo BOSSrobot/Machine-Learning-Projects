{
 "cells": [
  {
   "cell_type": "markdown",
   "metadata": {},
   "source": [
    "In this project we develop a model that recognizes a 28 by 28 image of a digit using deep learning. We also develop an interface where users can draw their own images in order to apply the model. "
   ]
  },
  {
   "cell_type": "markdown",
   "metadata": {},
   "source": [
    "# Set up"
   ]
  },
  {
   "cell_type": "markdown",
   "metadata": {},
   "source": [
    "To set up, you simply need to make sure the following libraries have been installed. "
   ]
  },
  {
   "cell_type": "code",
   "execution_count": 1,
   "metadata": {},
   "outputs": [
    {
     "name": "stdout",
     "output_type": "stream",
     "text": [
      "pygame 2.0.1 (SDL 2.0.14, Python 3.8.5)\n",
      "Hello from the pygame community. https://www.pygame.org/contribute.html\n"
     ]
    }
   ],
   "source": [
    "import tensorflow as tf\n",
    "import numpy as np\n",
    "from tensorflow import keras\n",
    "from tensorflow.keras import layers\n",
    "\n",
    "import pygame\n",
    "from pygame.locals import *\n",
    "import matplotlib.pyplot as plt"
   ]
  },
  {
   "cell_type": "markdown",
   "metadata": {},
   "source": [
    "# Aquiring Data"
   ]
  },
  {
   "cell_type": "markdown",
   "metadata": {},
   "source": [
    "To get training data, we can simply use the mnist dataset that keras provides. We also proccess the data to make it compatible with our model. "
   ]
  },
  {
   "cell_type": "code",
   "execution_count": 2,
   "metadata": {},
   "outputs": [],
   "source": [
    "(x_train, y_train), (x_test, y_test) = keras.datasets.mnist.load_data()\n",
    "\n",
    "x_train = x_train.reshape(60000, 784).astype(\"float32\") / 255\n",
    "x_test = x_test.reshape(10000, 784).astype(\"float32\") / 255\n",
    "\n",
    "y_train = y_train.astype(\"float32\")\n",
    "y_test = y_test.astype(\"float32\")"
   ]
  },
  {
   "cell_type": "markdown",
   "metadata": {},
   "source": [
    "# Model Creation"
   ]
  },
  {
   "cell_type": "markdown",
   "metadata": {},
   "source": [
    "Now we create the model using Keras's functional API"
   ]
  },
  {
   "cell_type": "code",
   "execution_count": 22,
   "metadata": {},
   "outputs": [
    {
     "name": "stdout",
     "output_type": "stream",
     "text": [
      "Model: \"model_2\"\n",
      "_________________________________________________________________\n",
      "Layer (type)                 Output Shape              Param #   \n",
      "=================================================================\n",
      "digits (InputLayer)          [(None, 784)]             0         \n",
      "_________________________________________________________________\n",
      "dense_1 (Dense)              (None, 64)                50240     \n",
      "_________________________________________________________________\n",
      "dense_2 (Dense)              (None, 64)                4160      \n",
      "_________________________________________________________________\n",
      "predictions (Dense)          (None, 10)                650       \n",
      "=================================================================\n",
      "Total params: 55,050\n",
      "Trainable params: 55,050\n",
      "Non-trainable params: 0\n",
      "_________________________________________________________________\n"
     ]
    }
   ],
   "source": [
    "inputs = keras.Input(shape=(784,), name=\"digits\")\n",
    "x = layers.Dense(64, activation=\"relu\", name=\"dense_1\")(inputs)\n",
    "x = layers.Dense(64, activation=\"relu\", name=\"dense_2\")(x)\n",
    "outputs = layers.Dense(10, activation=\"softmax\", name=\"predictions\")(x)\n",
    "\n",
    "model = keras.Model(inputs=inputs, outputs=outputs)\n",
    "model.summary()"
   ]
  },
  {
   "cell_type": "markdown",
   "metadata": {},
   "source": [
    "# Training The Model"
   ]
  },
  {
   "cell_type": "markdown",
   "metadata": {},
   "source": [
    "To train the model we just need to specify a few important values and then we can procceed. "
   ]
  },
  {
   "cell_type": "code",
   "execution_count": 23,
   "metadata": {},
   "outputs": [],
   "source": [
    "model.compile(optimizer = 'rmsprop', loss=\"sparse_categorical_crossentropy\", metrics=[\"sparse_categorical_accuracy\"])"
   ]
  },
  {
   "cell_type": "code",
   "execution_count": 24,
   "metadata": {},
   "outputs": [
    {
     "name": "stdout",
     "output_type": "stream",
     "text": [
      "Epoch 1/7\n",
      "750/750 [==============================] - 2s 2ms/step - loss: 0.5732 - sparse_categorical_accuracy: 0.8402 - val_loss: 0.1848 - val_sparse_categorical_accuracy: 0.9478\n",
      "Epoch 2/7\n",
      "750/750 [==============================] - 1s 2ms/step - loss: 0.1741 - sparse_categorical_accuracy: 0.9492 - val_loss: 0.1359 - val_sparse_categorical_accuracy: 0.9607\n",
      "Epoch 3/7\n",
      "750/750 [==============================] - 1s 2ms/step - loss: 0.1172 - sparse_categorical_accuracy: 0.9654 - val_loss: 0.1115 - val_sparse_categorical_accuracy: 0.9663\n",
      "Epoch 4/7\n",
      "750/750 [==============================] - 1s 2ms/step - loss: 0.0922 - sparse_categorical_accuracy: 0.9719 - val_loss: 0.0998 - val_sparse_categorical_accuracy: 0.9695\n",
      "Epoch 5/7\n",
      "750/750 [==============================] - 1s 2ms/step - loss: 0.0706 - sparse_categorical_accuracy: 0.9780 - val_loss: 0.1161 - val_sparse_categorical_accuracy: 0.9648\n",
      "Epoch 6/7\n",
      "750/750 [==============================] - 1s 2ms/step - loss: 0.0629 - sparse_categorical_accuracy: 0.9802 - val_loss: 0.1176 - val_sparse_categorical_accuracy: 0.9673\n",
      "Epoch 7/7\n",
      "750/750 [==============================] - 1s 2ms/step - loss: 0.0573 - sparse_categorical_accuracy: 0.9829 - val_loss: 0.1081 - val_sparse_categorical_accuracy: 0.9695\n"
     ]
    },
    {
     "data": {
      "text/plain": [
       "<tensorflow.python.keras.callbacks.History at 0x1a80003adf0>"
      ]
     },
     "execution_count": 24,
     "metadata": {},
     "output_type": "execute_result"
    }
   ],
   "source": [
    "model.fit(x_train, y_train, batch_size=64, validation_split=0.2, epochs=7)"
   ]
  },
  {
   "cell_type": "markdown",
   "metadata": {},
   "source": [
    "# Using the model"
   ]
  },
  {
   "cell_type": "markdown",
   "metadata": {},
   "source": [
    "To allow the user to draw their own digits, we use the pygame library. Running the second cell will pop up a window where one can draw their number. To draw just hold down and drag the mouse. To finish drawing the image and exit the window, simply press the space key. Running the third cell displays the model's prediction and what probabilities it assigned to the other numbers. "
   ]
  },
  {
   "cell_type": "code",
   "execution_count": 25,
   "metadata": {},
   "outputs": [],
   "source": [
    "import pygame \n",
    "from pygame.locals import *\n",
    "\n",
    "class canvas:\n",
    "    def __init__(self, pixels, topleft, size = 28):\n",
    "        self.size = size\n",
    "        self.pixels = pixels\n",
    "        self.topleft = topleft\n",
    "        self.colors = [[0 for i in range(size)] for i in range(size)]\n",
    "        self.all_pixels = [[pygame.Rect(topleft[0]+i, topleft[1]+j, pixels, pixels) for i in range(0,size*pixels,pixels)]\n",
    "                        for j in range(0,size*pixels,pixels)]\n",
    "        self.pixel_locked = (0,0)\n",
    "\n",
    "    def show(self, gd):\n",
    "        for row_rect, row_color in zip(self.all_pixels, self.colors):\n",
    "            for rect, color in zip(row_rect, row_color):\n",
    "                pygame.draw.rect(gd, (color,color,color), rect)\n",
    "        \n",
    "        x,y = self.topleft[0], self.topleft[1]\n",
    "        for i in range(0, self.size*self.pixels+1, self.pixels):\n",
    "            pygame.draw.line(gameDisplay, (255,255,255), (x, y+i), (x+self.size*self.pixels, y+i))\n",
    "            pygame.draw.line(gameDisplay, (255,255,255), (y+i, y), (i+x, y+self.size*self.pixels))\n",
    "                \n",
    "    def draw(self, mouse_coor):\n",
    "        x_index, y_index = (int((coor-start)/self.pixels) for coor, start in zip(mouse_coor, self.topleft))\n",
    "        \n",
    "        if (self.pixel_locked[0] == x_index and self.pixel_locked[1] == y_index): \n",
    "            pass\n",
    "        elif x_index >= self.size or y_index >= self.size or x_index < 0 or y_index < 0:\n",
    "            pass\n",
    "        else:\n",
    "            self.pixel_locked = (x_index, y_index)\n",
    "            \n",
    "            for i in [(-1, -1), (-1, 1), (1, -1), (1, 1)]:\n",
    "                try:\n",
    "                    if x_index+i[1] >= 0 and y_index + i[0] >= 0:\n",
    "                        self.colors[y_index + i[0]][x_index+i[1]] = min(self.colors[y_index + i[0]][x_index+i[1]] + 64, 255)\n",
    "                except IndexError:\n",
    "                    pass\n",
    "            for i in [(-1, 0), (0, -1), (1, 0), (0, 1)]:\n",
    "                try:\n",
    "                    if x_index+i[1] >= 0 and y_index + i[0] >= 0:\n",
    "                        self.colors[y_index + i[0]][x_index+i[1]] = min(self.colors[y_index + i[0]][x_index+i[1]] + 128, 255)\n",
    "                except IndexError:\n",
    "                    pass\n",
    "            self.colors[y_index][x_index] = 255"
   ]
  },
  {
   "cell_type": "code",
   "execution_count": 32,
   "metadata": {},
   "outputs": [
    {
     "data": {
      "text/plain": [
       "<matplotlib.image.AxesImage at 0x1a8069ec670>"
      ]
     },
     "execution_count": 32,
     "metadata": {},
     "output_type": "execute_result"
    },
    {
     "data": {
      "image/png": "[encoded data removed]",
      "text/plain": [
       "<Figure size 432x288 with 1 Axes>"
      ]
     },
     "metadata": {
      "needs_background": "light"
     },
     "output_type": "display_data"
    }
   ],
   "source": [
    "import pygame\n",
    "from pygame.locals import *\n",
    "import matplotlib.pyplot as plt\n",
    "\n",
    "pygame.init()\n",
    "pygame.display.set_caption(\"Draw Number\")\n",
    "gameDisplay = pygame.display.set_mode((500,500))\n",
    "clock = pygame.time.Clock()\n",
    "dcanvas = canvas(pixels = 10, topleft = (50,50))\n",
    "\n",
    "run = True\n",
    "track_pos = False\n",
    "while run:\n",
    "    \n",
    "    for event in pygame.event.get():\n",
    "        if event.type == QUIT:\n",
    "            run = False\n",
    "        elif event.type == KEYDOWN:\n",
    "            if event.key == pygame.K_SPACE:\n",
    "                run = False    \n",
    "        elif event.type == MOUSEBUTTONDOWN:\n",
    "            track_pos = True\n",
    "        elif event.type == MOUSEBUTTONUP:\n",
    "            track_pos = False\n",
    "            \n",
    "        if track_pos:\n",
    "            if event.type == MOUSEMOTION:\n",
    "                dcanvas.draw(event.pos)\n",
    "        \n",
    "    gameDisplay.fill((0,0,0))    \n",
    "    dcanvas.show(gameDisplay)\n",
    "    \n",
    "    pygame.display.update()            \n",
    "    clock.tick(60)\n",
    "\n",
    "\n",
    "number = np.array(dcanvas.colors).reshape(1, 784) / 255\n",
    "pygame.quit()\n",
    "plt.imshow(np.array(dcanvas.colors), cmap='gray', vmin=0, vmax=255)"
   ]
  },
  {
   "cell_type": "code",
   "execution_count": 33,
   "metadata": {},
   "outputs": [
    {
     "name": "stdout",
     "output_type": "stream",
     "text": [
      "2\n"
     ]
    },
    {
     "data": {
      "image/png": "[encoded data removed]",
      "text/plain": [
       "<Figure size 432x288 with 1 Axes>"
      ]
     },
     "metadata": {
      "needs_background": "light"
     },
     "output_type": "display_data"
    }
   ],
   "source": [
    "print(int(tf.argmax(model(number), axis = 1)))\n",
    "\n",
    "fig = plt.figure()\n",
    "ax = fig.add_axes([0.1,0.1,0.5,0.5])\n",
    "ax.plot(np.arange(10), tf.squeeze(model(number)))\n",
    "j = ax.set_xticks([i for i in range(10)])"
   ]
  },
  {
   "cell_type": "code",
   "execution_count": null,
   "metadata": {},
   "outputs": [],
   "source": []
  }
 ],
 "metadata": {
  "kernelspec": {
   "display_name": "Python 3 (ipykernel)",
   "language": "python",
   "name": "python3"
  },
  "language_info": {
   "codemirror_mode": {
    "name": "ipython",
    "version": 3
   },
   "file_extension": ".py",
   "mimetype": "text/x-python",
   "name": "python",
   "nbconvert_exporter": "python",
   "pygments_lexer": "ipython3",
   "version": "3.8.16"
  }
 },
 "nbformat": 4,
 "nbformat_minor": 4
}
